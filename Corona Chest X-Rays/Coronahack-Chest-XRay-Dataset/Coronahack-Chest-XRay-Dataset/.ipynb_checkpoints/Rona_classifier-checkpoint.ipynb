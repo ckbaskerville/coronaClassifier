{
 "cells": [
  {
   "cell_type": "code",
   "execution_count": 1,
   "metadata": {},
   "outputs": [],
   "source": [
    "import numpy as np\n",
    "import pandas as pd\n",
    "import os\n",
    "import tensorflow as tf\n",
    "from tensorflow.keras.models import Sequential, load_model\n",
    "from tensorflow.keras.layers import Conv2D, MaxPool2D,Dropout,Dense,Flatten\n",
    "from tensorflow.keras.optimizers import Adam\n",
    "from sklearn.model_selection import train_test_split\n",
    "from sklearn.metrics import accuracy_score\n",
    "from tensorflow.keras.preprocessing.image import load_img,array_to_img, ImageDataGenerator\n",
    "from PIL import Image\n",
    "from sklearn.preprocessing import OneHotEncoder\n",
    "import cv2\n",
    "import time\n",
    "encoder = OneHotEncoder()"
   ]
  },
  {
   "cell_type": "code",
   "execution_count": null,
   "metadata": {},
   "outputs": [],
   "source": [
    "training_batch_size = 130\n",
    "validation_batch_size = 1657\n",
    "image_size = 128"
   ]
  },
  {
   "cell_type": "code",
   "execution_count": null,
   "metadata": {},
   "outputs": [],
   "source": [
    "def preprocessTwo():\n",
    "    print(\"Preprocessing Data...\")\n",
    "    train = pd.read_csv(\"coronaClassifier/Corona Chest X-Rays/Chest_xray_Corona_Metadata.csv\")\n",
    "    test = pd.read_csv(\"coronaClassifier/Corona Chest X-Rays/Chest_xray-Corona_Metadata_test.csv\")\n",
    "    train_directory = 'coronaClassifier/Corona Chest X-Rays/Coronahack-Chest-XRay-Dataset/Coronahack-Chest-XRay-Dataset/train'\n",
    "    test_directory = 'coronaClassifier/Corona Chest X-Rays/Coronahack-Chest-XRay-Dataset/Coronahack-Chest-XRay-Dataset/test'\n",
    "   \n",
    "    train['image'] = [s + \".jpg\" for s in train[\"image_name\"]]\n",
    "    train['target_string'] = train['target'].astype(str)\n",
    "    train_df, validate_df = train_test_split(train, test_size=0.05, random_state=42)\n",
    "    \n",
    "    train_datagen = ImageDataGenerator(rescale=1./255, shear_range=0.2, zoom_range=0.2, horizontal_flip=True)\n",
    "    \n",
    "    train_generator = train_datagen.flow_from_dataframe(\n",
    "        train_df,\n",
    "        directory = train_directory,\n",
    "        x_col = 'image',\n",
    "        y_col = 'target',\n",
    "        target_size = (image_size,image_size),\n",
    "        shuffle = True,\n",
    "        class_mode = 'raw')\n",
    "    \n",
    "    validation_datagen = ImageDataGenerator(rescale=1./255)\n",
    "    \n",
    "    validation_generator = validation_datagen.flow_from_dataframe(\n",
    "        validate_df, \n",
    "        directory = train_directory,\n",
    "        x_col = 'image',\n",
    "        y_col = 'target',\n",
    "        target_size = (image_size,image_size),\n",
    "        shuffle = True,\n",
    "        class_mode = 'raw')\n",
    "    \n",
    "    print(\"Finished Preprocessing\")\n",
    "    \n",
    "    return train_generator, validation_generator"
   ]
  },
  {
   "cell_type": "code",
   "execution_count": null,
   "metadata": {},
   "outputs": [],
   "source": [
    "class MoleNet:\n",
    "    def build(image_size):\n",
    "        model = Sequential() \n",
    "        \n",
    "        model.add(Conv2D(32,(3,3), activation = 'relu', input_shape = (image_size,image_size,3))) \n",
    "        model.add(MaxPool2D((2,2))) \n",
    "        model.add(Dropout(rate=0.5))\n",
    "        model.add(Conv2D(64,(3,3), activation = 'relu')) \n",
    "        model.add(MaxPool2D((2,2))) \n",
    "        model.add(Conv2D(128,(3,3), activation = 'relu')) \n",
    "        model.add(MaxPool2D((2,2))) \n",
    "        model.add(Conv2D(256,(3,3), activation = 'relu')) \n",
    "        model.add(MaxPool2D((2,2))) \n",
    "        model.add(Flatten()) \n",
    "        model.add(Dense(256, activation = 'relu'))\n",
    "        model.add(Dropout(rate=0.25))\n",
    "        model.add(Dense(512, activation = 'relu'))\n",
    "        model.add(Dropout(rate=0.25))\n",
    "        model.add(Dense(256, activation = 'relu'))\n",
    "        model.add(Dropout(rate=0.25))\n",
    "        model.add(Dense(1, activation = 'sigmoid'))\n",
    "\n",
    "\n",
    "        model.summary()\n",
    "        return model"
   ]
  },
  {
   "cell_type": "code",
   "execution_count": null,
   "metadata": {},
   "outputs": [],
   "source": [
    "def trainModel(train_generator, validation_generator, training_batch_size, validation_batch_size, number_of_epochs,image_size):\n",
    "    print(\"Training Model...\")\n",
    "    \n",
    "    model = MoleNet.build(image_size)\n",
    "    model.compile(loss='binary_crossentropy',optimizer='Adadelta',metrics=['accuracy'])\n",
    "    model.fit_generator(train_generator, steps_per_epoch=train_generator.samples//training_batch_size, epochs=number_of_epochs, validation_data=validation_generator, validation_steps = validation_generator.samples//validation_batch_size,class_weight = class_weight)\n",
    "    print(\"Model Trained\")\n",
    "    return model\n",
    "    "
   ]
  },
  {
   "cell_type": "code",
   "execution_count": null,
   "metadata": {},
   "outputs": [],
   "source": [
    "def testModel(model,image_size):\n",
    "    test_csv = pd.read_csv('coronaClassifier/Corona Chest X-Rays/Chest_xray-Corona_Metadata_test.csv')\n",
    "\n",
    "    testImages = []\n",
    "    image_name=[]\n",
    "\n",
    "    for index,row in test_csv.iterrows():\n",
    "        print(index)\n",
    "        testImages.append(cv2.resize(cv2.imread('coronaClassifier/Corona Chest X-Rays/Coronahack-Chest-XRay-Dataset/Coronahack-Chest-XRay-Dataset/test'+row['X_ray_image_name']+'.jpg'),(image_size,image_size)))\n",
    "        image_name.append(row['image_name'])\n",
    "\n",
    "    testImages = np.array(testImages)\n",
    "    \n",
    "    pred = model.predict(testImages)\n",
    "    pred = pred.ravel()\n",
    "    print(accuracy_score(y_test,pred))\n",
    "    \n",
    "    print(len(pred))\n",
    "    print(len(image_name))"
   ]
  },
  {
   "cell_type": "code",
   "execution_count": null,
   "metadata": {},
   "outputs": [],
   "source": [
    "train_generator, validation_generator = preprocessTwo()"
   ]
  },
  {
   "cell_type": "code",
   "execution_count": null,
   "metadata": {},
   "outputs": [],
   "source": [
    "validation_batch_size = 1657\n",
    "number_of_epochs = 3\n",
    "model = trainModel(train_generator, validation_generator,training_batch_size, validation_batch_size, number_of_epochs,image_size)\n"
   ]
  },
  {
   "cell_type": "code",
   "execution_count": null,
   "metadata": {},
   "outputs": [],
   "source": [
    "testModel(model,image_size)"
   ]
  }
 ],
 "metadata": {
  "kernelspec": {
   "display_name": "conda_amazonei_tensorflow2_p36",
   "language": "python",
   "name": "conda_amazonei_tensorflow2_p36"
  },
  "language_info": {
   "codemirror_mode": {
    "name": "ipython",
    "version": 3
   },
   "file_extension": ".py",
   "mimetype": "text/x-python",
   "name": "python",
   "nbconvert_exporter": "python",
   "pygments_lexer": "ipython3",
   "version": "3.6.10"
  }
 },
 "nbformat": 4,
 "nbformat_minor": 4
}
